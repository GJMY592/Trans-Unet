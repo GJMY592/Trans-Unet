{
  "nbformat": 4,
  "nbformat_minor": 0,
  "metadata": {
    "colab": {
      "provenance": [],
      "gpuType": "T4",
      "mount_file_id": "1YcmcBYoZrwLfxoR2Ct6n9nK-LVP0gOFn",
      "authorship_tag": "ABX9TyO+56dSD9IBYx2WjXcgGUeG",
      "include_colab_link": true
    },
    "kernelspec": {
      "name": "python3",
      "display_name": "Python 3"
    },
    "language_info": {
      "name": "python"
    },
    "accelerator": "GPU"
  },
  "cells": [
    {
      "cell_type": "markdown",
      "metadata": {
        "id": "view-in-github",
        "colab_type": "text"
      },
      "source": [
        "<a href=\"https://colab.research.google.com/github/GJMY592/Trans-Unet/blob/main/Untitled0.ipynb\" target=\"_parent\"><img src=\"https://colab.research.google.com/assets/colab-badge.svg\" alt=\"Open In Colab\"/></a>"
      ]
    },
    {
      "cell_type": "code",
      "source": [
        "!git clone https://github.com/XiandaGuo/OpenStereo.git\n",
        "%cd OpenStereo\n",
        "!pip install -r requirements.txt"
      ],
      "metadata": {
        "colab": {
          "base_uri": "https://localhost:8080/"
        },
        "id": "Z3gNW-VG0GSg",
        "outputId": "a94ab8a4-4d11-463a-a53f-e7c3fad5bb68"
      },
      "execution_count": null,
      "outputs": [
        {
          "output_type": "stream",
          "name": "stdout",
          "text": [
            "fatal: destination path 'OpenStereo' already exists and is not an empty directory.\n",
            "/content/OpenStereo\n",
            "\u001b[31mERROR: Invalid requirement: 'torch~=1.11.0+cu113' (from line 6 of requirements.txt)\u001b[0m\u001b[31m\n",
            "\u001b[0m"
          ]
        }
      ]
    },
    {
      "cell_type": "code",
      "source": [],
      "metadata": {
        "id": "k6pMjBlQOYZm"
      },
      "execution_count": null,
      "outputs": []
    },
    {
      "cell_type": "code",
      "source": [],
      "metadata": {
        "id": "DXNgToFmOYtU"
      },
      "execution_count": null,
      "outputs": []
    },
    {
      "cell_type": "markdown",
      "source": [
        "# 新段落"
      ],
      "metadata": {
        "id": "Z5Du9DXjLXc9"
      }
    },
    {
      "cell_type": "code",
      "source": [
        "!python stereo_pipeline.py --image1 ./sample_data/100_0295_0014.JPG --image2 ./sample_data/100_0295_0015.JPG"
      ],
      "metadata": {
        "colab": {
          "base_uri": "https://localhost:8080/"
        },
        "id": "2LdjwzCPy7hW",
        "outputId": "9598de84-70e6-45de-ea03-2670905c53db"
      },
      "execution_count": null,
      "outputs": [
        {
          "output_type": "stream",
          "name": "stdout",
          "text": [
            "python3: can't open file '/content/stereo_pipeline.py': [Errno 2] No such file or directory\n"
          ]
        }
      ]
    },
    {
      "cell_type": "code",
      "source": [
        "!conda install -c conda-forge colmap"
      ],
      "metadata": {
        "colab": {
          "base_uri": "https://localhost:8080/"
        },
        "id": "cOTpQc0338C1",
        "outputId": "7339d77a-508a-4a99-f3fc-504a3b2aea6f"
      },
      "execution_count": null,
      "outputs": [
        {
          "output_type": "stream",
          "name": "stdout",
          "text": [
            "/bin/bash: line 1: conda: command not found\n"
          ]
        }
      ]
    },
    {
      "cell_type": "code",
      "source": [],
      "metadata": {
        "id": "8C6xGKGh1fnP"
      },
      "execution_count": null,
      "outputs": []
    }
  ]
}